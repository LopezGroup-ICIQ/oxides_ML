{
 "cells": [
  {
   "cell_type": "code",
   "execution_count": null,
   "metadata": {},
   "outputs": [],
   "source": [
    "from ase.visualize.plot import plot_atoms\n",
    "from ase.io import read\n",
    "from matplotlib import pyplot as plt\n",
    "import os\n",
    "\n",
    "molec_path = \"/BACKUP/database_3/oxide_adsorbates/RuO2/alkanes_alkenes_alkynes/Prop-1-yne/metal/conf_7\"\n",
    "surface_path = \"/BACKUP/database_3/slab/RuO2\"\n",
    "\n",
    "fig, ax = plt.subplots()\n",
    "path_to_contcar = os.path.join(molec_path, \"CONTCAR\")  # change to your path!\n",
    "atoms_obj = read(path_to_contcar)\n",
    "plot_atoms(atoms_obj, ax=ax, rotation=\"-60x, -45y, 0z\", show_unit_cell=0)\n",
    "ax.set_axis_off()\n",
    "plt.savefig(\"atoms_plot.svg\")\n",
    "plt.savefig(os.path.join(\"molec_figures\", \"full.svg\"), dpi=300)"
   ]
  }
 ],
 "metadata": {
  "kernelspec": {
   "display_name": "oxides_ML",
   "language": "python",
   "name": "python3"
  },
  "language_info": {
   "codemirror_mode": {
    "name": "ipython",
    "version": 3
   },
   "file_extension": ".py",
   "mimetype": "text/x-python",
   "name": "python",
   "nbconvert_exporter": "python",
   "pygments_lexer": "ipython3",
   "version": "3.11.8"
  }
 },
 "nbformat": 4,
 "nbformat_minor": 2
}

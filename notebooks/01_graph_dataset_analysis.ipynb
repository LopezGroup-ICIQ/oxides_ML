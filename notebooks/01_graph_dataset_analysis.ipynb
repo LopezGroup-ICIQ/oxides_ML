{
 "cells": [
  {
   "cell_type": "markdown",
   "id": "94bbde40",
   "metadata": {},
   "source": [
    "# Generalized Graph Dataset Analysis\n",
    "\n",
    "This notebook provides a flexible framework for analyzing PyTorch Geometric graph datasets with configurable parameters for graph construction (tolerance, scaling factor, surface order) and node features."
   ]
  },
  {
   "cell_type": "markdown",
   "id": "ef9b73aa",
   "metadata": {},
   "source": [
    "## Configuration\n",
    "\n",
    "Set your dataset parameters below. Modify these variables to analyze different datasets."
   ]
  },
  {
   "cell_type": "code",
   "execution_count": null,
   "id": "d2e502fd",
   "metadata": {},
   "outputs": [],
   "source": [
    "import os\n",
    "import sys\n",
    "import json\n",
    "\n",
    "from torch_geometric.data import Data\n",
    "import torch\n",
    "from torch import load, save, tensor\n",
    "\n",
    "import pandas as pd\n",
    "import seaborn as sns\n",
    "import matplotlib.pyplot as plt\n",
    "from collections import defaultdict\n",
    "\n",
    "import pubchempy as pcp\n",
    "import numpy as np\n",
    "\n",
    "# Add src folder to the sys.path\n",
    "src_path = \"../src\"\n",
    "sys.path.insert(0, src_path)\n",
    "\n",
    "from oxides_ml.dataset import OxidesGraphDataset\n",
    "from oxides_ml.graph_tools import graph_plotter"
   ]
  },
  {
   "cell_type": "markdown",
   "id": "d7d66d42",
   "metadata": {},
   "source": [
    "### Dataset Configuration Parameters"
   ]
  },
  {
   "cell_type": "code",
   "execution_count": null,
   "id": "b4be9ce6",
   "metadata": {},
   "outputs": [],
   "source": [
    "# ============================================================================\n",
    "# CONFIGURATION SECTION - Modify these parameters to analyze different datasets\n",
    "# ============================================================================\n",
    "\n",
    "# Dataset source and output directories\n",
    "# Modify these paths to point to your VASP data and desired output directory\n",
    "VASP_DIRECTORY = os.environ.get(\n",
    "    \"VASP_DATA_DIR\",\n",
    "    \"/path/to/your/VASP/data\"  # Replace with your VASP data directory\n",
    ")\n",
    "\n",
    "GRAPH_DATASET_DIR = os.environ.get(\n",
    "    \"GRAPH_DATASET_DIR\",\n",
    "    \"./graph_datasets\"  # Replace with your desired output directory\n",
    ")\n",
    "\n",
    "# Graph structure parameters\n",
    "TOLERANCE = 0.3  # Nearest-neighbor distance cutoff (Å)\n",
    "SCALING_FACTOR = 1.25  # Unit cell scaling factor\n",
    "SURFACE_ORDER = 2  # Order of nearest neighbors for surface classification (1, 2, 3, or custom)\n",
    "\n",
    "# Node features to include in the dataset\n",
    "INCLUDE_ADSORBATE_FLAG = False  # Flag indicating adsorbate vs surface atoms\n",
    "INCLUDE_RADICAL = False  # Radical electron indicators\n",
    "INCLUDE_VALENCE = False  # Valence electron counts\n",
    "INCLUDE_CN = False  # Coordination number (highly recommended)\n",
    "INCLUDE_MAGNETIZATION = False  # Spin polarization from DFT\n",
    "INCLUDE_ADS_HEIGHT = False  # Adsorbate height above surface\n",
    "\n",
    "# Target property and data options\n",
    "TARGET_PROPERTY = \"adsorption_energy\"  # Property to predict (e.g., \"adsorption_energy\", \"formation_energy\")\n",
    "USE_INITIAL_STATE = False  # Use initial structures (True) or relaxed structures (False)\n",
    "USE_AUGMENTATION = False  # Data augmentation: include both initial and relaxed structures\n",
    "FORCE_RELOAD = False  # Force reprocessing of graphs (slow, use for regenerating datasets)\n",
    "\n",
    "NUM_CORES = os.cpu_count()  # Number of cores for multiprocessing\n",
    "\n",
    "# ============================================================================\n",
    "# NOTE: Set environment variables for different systems:\n",
    "# export VASP_DATA_DIR=/path/to/your/data\n",
    "# export GRAPH_DATASET_DIR=/path/to/output\n",
    "# ============================================================================\n",
    "\n",
    "print(f\"VASP Directory: {VASP_DIRECTORY}\")\n",
    "print(f\"Graph Dataset Directory: {GRAPH_DATASET_DIR}\")"
   ]
  },
  {
   "cell_type": "markdown",
   "id": "38344eea",
   "metadata": {},
   "source": [
    "### Load and Display Dataset"
   ]
  },
  {
   "cell_type": "code",
   "execution_count": null,
   "id": "99354306",
   "metadata": {},
   "outputs": [],
   "source": [
    "# Build graph parameters from configuration\n",
    "graph_params = {\n",
    "    \"structure\": {\n",
    "        \"tolerance\": TOLERANCE,\n",
    "        \"scaling_factor\": SCALING_FACTOR,\n",
    "        \"surface_order\": SURFACE_ORDER\n",
    "    },\n",
    "    \"features\": {\n",
    "        \"adsorbate\": INCLUDE_ADSORBATE_FLAG,\n",
    "        \"radical\": INCLUDE_RADICAL,\n",
    "        \"valence\": INCLUDE_VALENCE,\n",
    "        \"cn\": INCLUDE_CN,\n",
    "        \"magnetization\": INCLUDE_MAGNETIZATION,\n",
    "        \"ads_height\": INCLUDE_ADS_HEIGHT\n",
    "    },\n",
    "    \"target\": TARGET_PROPERTY\n",
    "}\n",
    "\n",
    "print(\"Graph Parameters:\")\n",
    "print(json.dumps(graph_params, indent=2))\n",
    "\n",
    "# Load the dataset\n",
    "dataset = OxidesGraphDataset(\n",
    "    VASP_DIRECTORY,\n",
    "    GRAPH_DATASET_DIR,\n",
    "    graph_params,\n",
    "    ncores=NUM_CORES,\n",
    "    initial_state=USE_INITIAL_STATE,\n",
    "    augment=USE_AUGMENTATION,\n",
    "    force_reload=FORCE_RELOAD\n",
    ")\n",
    "\n",
    "print(f\"\\nDataset loaded successfully!\")\n",
    "print(f\"Total number of graphs: {len(dataset)}\")"
   ]
  },
  {
   "cell_type": "markdown",
   "id": "ef644e13",
   "metadata": {},
   "source": [
    "## Dataset Inspection"
   ]
  },
  {
   "cell_type": "code",
   "execution_count": null,
   "id": "fa7c8f44",
   "metadata": {},
   "outputs": [],
   "source": [
    "# Inspect the first graph\n",
    "first_graph = dataset[0]\n",
    "\n",
    "print(\"First graph properties:\")\n",
    "print(f\"Keys: {list(first_graph.keys())}\")\n",
    "print(f\"\\nNumber of nodes: {first_graph.num_nodes}\")\n",
    "print(f\"Number of edges: {first_graph.num_edges}\")\n",
    "print(f\"Node feature dimension: {first_graph.x.shape[1] if hasattr(first_graph, 'x') else 'N/A'}\")\n",
    "print(f\"\\nFormula: {first_graph.formula}\")\n",
    "print(f\"Material: {first_graph.material}\")\n",
    "print(f\"Adsorbate: {first_graph.adsorbate_name}\")\n",
    "print(f\"Type: {first_graph.type}\")\n",
    "print(f\"State: {first_graph.state}\")\n",
    "print(f\"Target ({TARGET_PROPERTY}): {first_graph.target.item():.3f}\")\n",
    "print(f\"Node features: {first_graph.node_feats}\")"
   ]
  },
  {
   "cell_type": "markdown",
   "id": "69995a5e",
   "metadata": {},
   "source": [
    "## Dataset Statistics"
   ]
  },
  {
   "cell_type": "code",
   "execution_count": null,
   "id": "fda3bc3e",
   "metadata": {},
   "outputs": [],
   "source": [
    "# Collect dataset statistics\n",
    "exclude_keys = {'edge_index', 'edge_attr', 'node_feats', 'x', 'elem', 'idx', 'adsorbate_indices', 'target', 'facet'}\n",
    "\n",
    "rows = []\n",
    "for data in dataset:\n",
    "    row = {}\n",
    "    for key in data.keys():\n",
    "        if key in exclude_keys:\n",
    "            continue\n",
    "        value = data[key]\n",
    "        if isinstance(value, torch.Tensor):\n",
    "            row[key] = value.item()\n",
    "        else:\n",
    "            row[key] = value\n",
    "    rows.append(row)\n",
    "\n",
    "df = pd.DataFrame(rows)\n",
    "\n",
    "print(f\"Dataset shape: {df.shape}\")\n",
    "print(f\"\\nDataset summary:\")\n",
    "print(df.describe())"
   ]
  },
  {
   "cell_type": "markdown",
   "id": "76114f13",
   "metadata": {},
   "source": [
    "## Filtering and Analysis by Material"
   ]
  },
  {
   "cell_type": "code",
   "execution_count": null,
   "id": "4a89740b",
   "metadata": {},
   "outputs": [],
   "source": [
    "# Count graphs by material\n",
    "material_counts = df['material'].value_counts()\n",
    "print(\"Graphs by material:\")\n",
    "print(material_counts)\n",
    "\n",
    "# Count graphs by type\n",
    "type_counts = df['type'].value_counts()\n",
    "print(\"\\nGraphs by type:\")\n",
    "print(type_counts)\n",
    "\n",
    "# Count graphs by state\n",
    "state_counts = df['state'].value_counts()\n",
    "print(\"\\nGraphs by state:\")\n",
    "print(state_counts)"
   ]
  },
  {
   "cell_type": "markdown",
   "id": "59c4b9c5",
   "metadata": {},
   "source": [
    "## Target Property Statistics"
   ]
  },
  {
   "cell_type": "code",
   "execution_count": null,
   "id": "eeac5368",
   "metadata": {},
   "outputs": [],
   "source": [
    "# Extract target values\n",
    "targets = [data.target.item() for data in dataset]\n",
    "\n",
    "print(f\"Target property: {TARGET_PROPERTY}\")\n",
    "print(f\"Mean: {np.mean(targets):.4f} eV\")\n",
    "print(f\"Median: {np.median(targets):.4f} eV\")\n",
    "print(f\"Std Dev: {np.std(targets):.4f} eV\")\n",
    "print(f\"Min: {np.min(targets):.4f} eV\")\n",
    "print(f\"Max: {np.max(targets):.4f} eV\")\n",
    "\n",
    "# Histogram of target values\n",
    "fig, ax = plt.subplots(figsize=(10, 5))\n",
    "ax.hist(targets, bins=50, edgecolor='black')\n",
    "ax.set_xlabel(f'{TARGET_PROPERTY} (eV)')\n",
    "ax.set_ylabel('Count')\n",
    "ax.set_title(f'Distribution of {TARGET_PROPERTY}')\n",
    "plt.tight_layout()\n",
    "plt.show()"
   ]
  },
  {
   "cell_type": "markdown",
   "id": "96e19403",
   "metadata": {},
   "source": [
    "## Graph Visualization"
   ]
  },
  {
   "cell_type": "code",
   "execution_count": null,
   "id": "b3e57826",
   "metadata": {},
   "outputs": [],
   "source": [
    "# Function to find graphs by criteria\n",
    "def find_graphs_by_adsorbate(dataset, adsorbate_name):\n",
    "    \"\"\"Find all graphs with a specific adsorbate\"\"\"\n",
    "    indices = [i for i in range(len(dataset)) if dataset[i].adsorbate_name == adsorbate_name]\n",
    "    return indices\n",
    "\n",
    "def find_graphs_by_material(dataset, material):\n",
    "    \"\"\"Find all graphs for a specific material\"\"\"\n",
    "    indices = [i for i in range(len(dataset)) if dataset[i].material == material]\n",
    "    return indices\n",
    "\n",
    "def find_graphs_by_criteria(dataset, material=None, adsorbate=None, energy_range=None):\n",
    "    \"\"\"Find graphs matching multiple criteria\"\"\"\n",
    "    indices = list(range(len(dataset)))\n",
    "    \n",
    "    if material:\n",
    "        indices = [i for i in indices if dataset[i].material == material]\n",
    "    \n",
    "    if adsorbate:\n",
    "        indices = [i for i in indices if dataset[i].adsorbate_name == adsorbate]\n",
    "    \n",
    "    if energy_range:\n",
    "        min_e, max_e = energy_range\n",
    "        indices = [i for i in indices if min_e <= dataset[i].target.item() <= max_e]\n",
    "    \n",
    "    return indices\n",
    "\n",
    "# Example: Find and visualize a specific graph\n",
    "# Uncomment and modify to visualize graphs\n",
    "# idx = find_graphs_by_adsorbate(dataset, \"Acetylene\")[0]\n",
    "# graph_plotter(dataset[idx])"
   ]
  },
  {
   "cell_type": "markdown",
   "id": "3e444cbc",
   "metadata": {},
   "source": [
    "## Adsorbate Distribution"
   ]
  },
  {
   "cell_type": "code",
   "execution_count": null,
   "id": "49fc5ec6",
   "metadata": {},
   "outputs": [],
   "source": [
    "# Count adsorbates\n",
    "adsorbate_counts = df['adsorbate_name'].value_counts()\n",
    "print(f\"\\nNumber of unique adsorbates: {len(adsorbate_counts)}\")\n",
    "print(f\"\\nTop 20 most frequent adsorbates:\")\n",
    "print(adsorbate_counts.head(20))\n",
    "\n",
    "# Visualize top adsorbates\n",
    "fig, ax = plt.subplots(figsize=(12, 8))\n",
    "adsorbate_counts.head(20).plot(kind='barh', ax=ax)\n",
    "ax.set_xlabel('Count')\n",
    "ax.set_title('Top 20 Most Frequent Adsorbates')\n",
    "plt.tight_layout()\n",
    "plt.show()"
   ]
  }
 ],
 "metadata": {
  "language_info": {
   "name": "python"
  }
 },
 "nbformat": 4,
 "nbformat_minor": 5
}

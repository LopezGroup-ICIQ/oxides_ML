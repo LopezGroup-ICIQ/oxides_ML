{
 "cells": [
  {
   "cell_type": "code",
   "execution_count": null,
   "metadata": {},
   "outputs": [],
   "source": [
    "import sys, os\n",
    "import pandas as pd\n",
    "import numpy as np\n",
    "import cycler\n",
    "import matplotlib.pyplot as plt\n",
    "from matplotlib.ticker import MaxNLocator\n",
    "from matplotlib.font_manager import FontProperties\n",
    "import matplotlib.patches as mpatches\n",
    "legend_font = FontProperties(family='Arial', style='normal', size=9)\n",
    "import seaborn as sns\n",
    "from sklearn.metrics import r2_score\n",
    "from scipy.stats import gaussian_kde"
   ]
  },
  {
   "cell_type": "code",
   "execution_count": null,
   "metadata": {},
   "outputs": [],
   "source": [
    "# Base path to dataset and figures\n",
    "base_path = \"/home/tvanhout/oxides_ML/models/Experiments/RELAXED/tolerance_fixed/\"\n",
    "\n",
    "# Directory containing the dataset\n",
    "directory = \"Db1_TiO2_base\"\n",
    "\n",
    "plt_path = os.path.join(base_path, directory, \"figures\")\n",
    "\n",
    "# Load data\n",
    "df_uq = pd.read_csv(os.path.join(base_path, directory, \"uq.csv\"))"
   ]
  },
  {
   "cell_type": "code",
   "execution_count": null,
   "metadata": {},
   "outputs": [],
   "source": [
    "# statistics\n",
    "mean = df_uq[\"y_true\"].mean()\n",
    "median = df_uq[\"y_true\"].median()\n",
    "std = df_uq[\"y_true\"].std()"
   ]
  },
  {
   "cell_type": "code",
   "execution_count": null,
   "metadata": {},
   "outputs": [],
   "source": [
    "# Shared plot settings\n",
    "sns.set_style(\"whitegrid\")\n",
    "palette = sns.color_palette(\"hls\", 12)\n",
    "ylim = 0.6\n",
    "\n",
    "# Compute shared statistics\n",
    "mean = df_uq[\"y_true\"].mean()\n",
    "median = df_uq[\"y_true\"].median()\n",
    "std = df_uq[\"y_true\"].std()\n",
    "\n",
    "# Create side-by-side subplots\n",
    "fig, axes = plt.subplots(1, 2, figsize=(24/2.54, 8/2.54), dpi=300, sharey=True)\n",
    "\n",
    "# --- Plot 1: By Material ---\n",
    "sns.kdeplot(\n",
    "    data=df_uq.sort_values(\"material\"), x=\"y_true\", hue=\"material\",\n",
    "    fill=True, ax=axes[0], alpha=0.5, multiple=\"stack\", linewidth=0, legend=True\n",
    ")\n",
    "axes[0].set_title(\"DFT Energy Distribution by Metal Oxide\")\n",
    "axes[0].set_xlabel(\"$\\mathit{E}_{ads}^{DFT}$ / eV\")\n",
    "axes[0].set_ylabel(\"Density\")\n",
    "\n",
    "# --- Plot 2: By Molecule Group ---\n",
    "sns.kdeplot(\n",
    "    data=df_uq.sort_values(\"molecule_group\"), x=\"y_true\", hue=\"molecule_group\",\n",
    "    fill=True, ax=axes[1], alpha=0.5, multiple=\"stack\", linewidth=0, legend=False\n",
    ")\n",
    "axes[1].set_title(\"DFT Energy Distribution by Adsorbate Family\")\n",
    "axes[1].set_xlabel(\"$\\mathit{E}_{ads}^{DFT}$ / eV\")\n",
    "axes[1].set_ylabel(\"\")  # Hide second y-label to avoid clutter\n",
    "\n",
    "# Shared formatting\n",
    "for ax in axes:\n",
    "    ax.grid(False)\n",
    "    for spine in ['right', 'top', 'left', 'bottom']:\n",
    "        ax.spines[spine].set_linewidth(1.0)\n",
    "        ax.spines[spine].set_color('black')\n",
    "    ax.set_xlim(-5, 1)\n",
    "    ax.set_ylim(0, ylim)\n",
    "    ax.axvline(mean, 0, 1, color='r', linestyle='dashed')\n",
    "    ax.axvline(median, 0, 1, color='g', linestyle='dashed')\n",
    "    ax.text(\n",
    "        0.03, 0.95,\n",
    "        r\"mean = {:.2f} (red dashed)\".format(mean) + \"\\n\"\n",
    "        + r\"median = {:.2f} (green dashed)\".format(median) + \"\\n\"\n",
    "        + r\"std = {:.2f}\".format(std),\n",
    "        transform=ax.transAxes, va='top',\n",
    "        bbox=dict(boxstyle='round', facecolor='white', alpha=1.0, edgecolor='black'),\n",
    "        fontsize=9\n",
    "    )\n",
    "\n",
    "plt.tight_layout()\n",
    "\n",
    "# Save the combined figure\n",
    "fig.savefig(os.path.join(plt_path, \"DFT_energy_distribution_combined.svg\"), dpi=300, bbox_inches=\"tight\")\n",
    "fig.savefig(os.path.join(plt_path, \"DFT_energy_distribution_combined.png\"), dpi=300, bbox_inches=\"tight\")\n",
    "\n",
    "plt.show()"
   ]
  }
 ],
 "metadata": {
  "kernelspec": {
   "display_name": "oxides_ML",
   "language": "python",
   "name": "python3"
  },
  "language_info": {
   "codemirror_mode": {
    "name": "ipython",
    "version": 3
   },
   "file_extension": ".py",
   "mimetype": "text/x-python",
   "name": "python",
   "nbconvert_exporter": "python",
   "pygments_lexer": "ipython3",
   "version": "3.11.8"
  }
 },
 "nbformat": 4,
 "nbformat_minor": 2
}

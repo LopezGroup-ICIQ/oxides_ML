{
 "cells": [
  {
   "cell_type": "code",
   "execution_count": 13,
   "metadata": {},
   "outputs": [
    {
     "name": "stdout",
     "output_type": "stream",
     "text": [
      "Adsorbate indices: [120, 121, 122, 123, 124, 125, 126, 127, 128]\n"
     ]
    }
   ],
   "source": [
    "import os\n",
    "import pubchempy as pcp\n",
    "from collections import Counter\n",
    "import re\n",
    "\n",
    "def get_molecule_name_from_dir(directory):\n",
    "    parts = directory.split(os.sep)\n",
    "    molecule_name = parts[-4]  # Adjust this if your structure is different\n",
    "    return molecule_name\n",
    "\n",
    "def get_pubchem_formula(molecule_name):\n",
    "    compounds = pcp.get_compounds(molecule_name, 'name')\n",
    "    if compounds:\n",
    "        pubchem_formula = compounds[0].molecular_formula\n",
    "        return parse_pubchem_formula(pubchem_formula)\n",
    "    return None\n",
    "\n",
    "def parse_pubchem_formula(formula):\n",
    "    pattern = r'([A-Z][a-z]*)(\\d*)'\n",
    "    parsed = re.findall(pattern, formula)\n",
    "    atom_counts = {element: int(count) if count else 1 for element, count in parsed}\n",
    "    return Counter(atom_counts)\n",
    "\n",
    "def get_adsorbate_indices_from_vasp(filepath, total_adsorbate_atoms):\n",
    "    with open(filepath, 'r') as file:\n",
    "        lines = file.readlines()\n",
    "\n",
    "    # POSCAR format: atomic symbols on line 5, atom counts on line 6\n",
    "    element_symbols = lines[5].split()\n",
    "    atom_counts = list(map(int, lines[6].split()))\n",
    "    \n",
    "    total_atoms = sum(atom_counts)\n",
    "    adsorbate_start_index = total_atoms - total_adsorbate_atoms\n",
    "    adsorbate_indices = list(range(adsorbate_start_index, total_atoms))  # 0-based indexing\n",
    "\n",
    "    return adsorbate_indices\n",
    "\n",
    "# Example usage\n",
    "directory = \"/BACKUP/database/surface_adsorbates/IrO2/thiols_thials_thioketones_thioethers/Dimethylsulfane/metal/conf_1/CONTCAR\"\n",
    "\n",
    "name = get_molecule_name_from_dir(directory)\n",
    "total_adsorbate_atoms = sum(get_pubchem_formula(name).values())\n",
    "\n",
    "adsorbate_indices = get_adsorbate_indices_from_vasp(directory, total_adsorbate_atoms)\n",
    "\n",
    "print(f\"Adsorbate indices: {adsorbate_indices}\")"
   ]
  },
  {
   "cell_type": "code",
   "execution_count": null,
   "metadata": {},
   "outputs": [
    {
     "name": "stderr",
     "output_type": "stream",
     "text": [
      "/home/tvanhout/miniconda3/envs/oxides_ML/lib/python3.11/site-packages/torch_geometric/typing.py:86: UserWarning: An issue occurred while importing 'torch-scatter'. Disabling its usage. Stacktrace: /home/tvanhout/miniconda3/envs/oxides_ML/lib/python3.11/site-packages/torch_scatter/_version_cuda.so: undefined symbol: _ZN3c1017RegisterOperatorsD1Ev\n",
      "  warnings.warn(f\"An issue occurred while importing 'torch-scatter'. \"\n",
      "/home/tvanhout/miniconda3/envs/oxides_ML/lib/python3.11/site-packages/torch_geometric/typing.py:124: UserWarning: An issue occurred while importing 'torch-sparse'. Disabling its usage. Stacktrace: /home/tvanhout/miniconda3/envs/oxides_ML/lib/python3.11/site-packages/torch_sparse/_version_cuda.so: undefined symbol: _ZN3c1017RegisterOperatorsD1Ev\n",
      "  warnings.warn(f\"An issue occurred while importing 'torch-sparse'. \"\n"
     ]
    }
   ],
   "source": [
    "import sys\n",
    "\n",
    "# Add src folder to the sys.path\n",
    "src_path = \"../src\"\n",
    "sys.path.insert(0, src_path)\n",
    "\n",
    "from oxides_ml.graph_test import atoms_to_pyg\n",
    "\n",
    "\n"
   ]
  }
 ],
 "metadata": {
  "kernelspec": {
   "display_name": "oxides_ML",
   "language": "python",
   "name": "python3"
  },
  "language_info": {
   "codemirror_mode": {
    "name": "ipython",
    "version": 3
   },
   "file_extension": ".py",
   "mimetype": "text/x-python",
   "name": "python",
   "nbconvert_exporter": "python",
   "pygments_lexer": "ipython3",
   "version": "3.11.8"
  }
 },
 "nbformat": 4,
 "nbformat_minor": 2
}
